{
 "cells": [
  {
   "cell_type": "code",
   "execution_count": 1,
   "metadata": {
    "collapsed": true,
    "ExecuteTime": {
     "end_time": "2023-07-29T15:14:24.418849100Z",
     "start_time": "2023-07-29T15:14:24.359880400Z"
    }
   },
   "outputs": [],
   "source": [
    "import os\n",
    "import requests\n",
    "api_key = os.environ['BLOCKBEE_API_KEY'] = '1pBeIGpuWfwHJDSREe1RnbSzFyrxfSyHzzD1Z6LDV5jyr4B70mhcgXQZRKSDkavl'\n"
   ]
  },
  {
   "cell_type": "code",
   "execution_count": 2,
   "outputs": [],
   "source": [
    "import requests\n",
    "\n",
    "ticker = \"btc\"\n",
    "url = \"https://api.blockbee.io/\" + ticker + \"/create/\"\n",
    "\n",
    "query = {\n",
    "  \"apikey\": api_key,\n",
    "  \"callback\": \"https://investor-bot.ngrok.io/api/events/payment?order=1234567890\",\n",
    "  # \"pending\": \"0\",\n",
    "  # \"confirmations\": \"1\",\n",
    "  \"post\": \"1\",\n",
    "  # \"priority\": \"default\",\n",
    "  # \"multi_token\": \"0\",\n",
    "  # \"multi_chain\": \"0\",\n",
    "  \"convert\": \"1\"\n",
    "}\n",
    "\n",
    "# response = requests.get(url, params=query)\n",
    "#\n",
    "# data = response.json()\n",
    "# print(data)"
   ],
   "metadata": {
    "collapsed": false,
    "ExecuteTime": {
     "end_time": "2023-07-29T15:14:31.514378200Z",
     "start_time": "2023-07-29T15:14:31.505870200Z"
    }
   }
  },
  {
   "cell_type": "code",
   "execution_count": 6,
   "outputs": [
    {
     "name": "stdout",
     "output_type": "stream",
     "text": [
      "{'status': 'success', 'value_coin': '0.00034167', 'exchange_rate': '29268.2'}\n"
     ]
    }
   ],
   "source": [
    "url = \"https://api.blockbee.io/\" + ticker + \"/convert/\"\n",
    "\n",
    "query = {\n",
    "  \"apikey\": api_key,\n",
    "  \"value\": \"10\",\n",
    "  \"from\": \"usd\"\n",
    "}\n",
    "\n",
    "response = requests.get(url, params=query)\n",
    "\n",
    "data = response.json()\n",
    "print(data)"
   ],
   "metadata": {
    "collapsed": false,
    "ExecuteTime": {
     "end_time": "2023-07-28T13:29:02.801003800Z",
     "start_time": "2023-07-28T13:29:00.792612200Z"
    }
   }
  },
  {
   "cell_type": "code",
   "execution_count": 15,
   "outputs": [],
   "source": [
    "\n",
    "import uuid\n",
    "\n",
    "api_url = 'https://investor-bot.ngrok.io/api/events/payment?order=529787370751'\n",
    "headers={\n",
    "        'host': 'investor-bot.ngrok.io',\n",
    "        'user-agent': 'BlockBee/1.0 (+https://docs.blockbee.io/#tag/Callbacks)',\n",
    "        'content-length': '2052',\n",
    "        'accept-encoding': 'identity',\n",
    "        'content-type': 'application/x-www-form-urlencoded',\n",
    "        'sentry-trace': '80ea9685b21a46688c8f471210eac034-8c6ff0d633f33378-',\n",
    "        'x-ca-signature': 'F3c+2/u9N6YNY9iGJlKy4J6sDI37qi4G+n8fC33FlzyyW9Cy5JocwKChSJnixaKhKjRI/AI+5KEHV6PPyMOU4KRvIIr/OYL4jS6Jj0TdYLNfiUNSihuc0xBvoRv4c2YBgCLVYdEI4ZROM7YHcIXMSq1ywGfSNIa6sbhIt6LIKFs=',\n",
    "        'x-forwarded-for': '172.26.0.1',\n",
    "        'x-forwarded-host': 'investor-bot.ngrok.io',\n",
    "        'x-forwarded-port': '80',\n",
    "        'x-forwarded-proto': 'http',\n",
    "        'x-forwarded-server': '30ec4a5e324f',\n",
    "        'x-real-ip': '172.26.0.1'\n",
    "      }\n",
    "data=b'uuid=db9b1306-9c8e-4d1a-8389-fd3cea406699&address_in=3C1G5nGW6rvSqyxL7bqQ3pcKhTDrYTfJmd&address_out=bc1qtgh6tm2qnk9hg2ymzn4h5d3ln8mxktcu20x9jh&confirmations=3&txid_in=58b708a0867e23dfb351d4ab7afe81fb4237222972829ec7bda8b61718930287&txid_out=796e3909b0737bb2d393dfec2178167188db13aa9eae733955c3acf3eebf75f8&fee=546&fee_coin=0.00000546&value=10238&value_coin=0.00010238&value_forwarded=8403&value_forwarded_coin=0.00008403&coin=btc&price=29301.3232176739&result=sent&pending=0&value_coin_convert=%7B%22AED%22%3A%2211.02%22%2C%22BGN%22%3A%225.32%22%2C%22BRL%22%3A%2214.19%22%2C%22CAD%22%3A%223.97%22%2C%22CHF%22%3A%222.60%22%2C%22CNY%22%3A%2221.44%22%2C%22COP%22%3A%2211818.62%22%2C%22CZK%22%3A%2265.30%22%2C%22DKK%22%3A%2220.29%22%2C%22EUR%22%3A%222.72%22%2C%22GBP%22%3A%222.33%22%2C%22HKD%22%3A%2223.39%22%2C%22HUF%22%3A%221046.49%22%2C%22IDR%22%3A%2245309.53%22%2C%22INR%22%3A%22246.74%22%2C%22JPY%22%3A%22423.33%22%2C%22LKR%22%3A%22985.98%22%2C%22MXN%22%3A%2250.06%22%2C%22MYR%22%3A%2213.66%22%2C%22PHP%22%3A%22164.71%22%2C%22PLN%22%3A%2212.01%22%2C%22RON%22%3A%2213.43%22%2C%22RUB%22%3A%22276.11%22%2C%22SGD%22%3A%223.99%22%2C%22THB%22%3A%22102.51%22%2C%22TRY%22%3A%2280.74%22%2C%22UGX%22%3A%2210827.37%22%2C%22USD%22%3A%223.00%22%2C%22ZAR%22%3A%2252.87%22%7D&value_forwarded_coin_convert=%7B%22AED%22%3A%229.04%22%2C%22BGN%22%3A%224.37%22%2C%22BRL%22%3A%2211.65%22%2C%22CAD%22%3A%223.26%22%2C%22CHF%22%3A%222.13%22%2C%22CNY%22%3A%2217.60%22%2C%22COP%22%3A%229700.32%22%2C%22CZK%22%3A%2253.60%22%2C%22DKK%22%3A%2216.65%22%2C%22EUR%22%3A%222.23%22%2C%22GBP%22%3A%221.92%22%2C%22HKD%22%3A%2219.20%22%2C%22HUF%22%3A%22858.92%22%2C%22IDR%22%3A%2237188.51%22%2C%22INR%22%3A%22202.51%22%2C%22JPY%22%3A%22347.45%22%2C%22LKR%22%3A%22809.26%22%2C%22MXN%22%3A%2241.08%22%2C%22MYR%22%3A%2211.21%22%2C%22PHP%22%3A%22135.19%22%2C%22PLN%22%3A%229.86%22%2C%22RON%22%3A%2211.02%22%2C%22RUB%22%3A%22226.62%22%2C%22SGD%22%3A%223.28%22%2C%22THB%22%3A%2284.14%22%2C%22TRY%22%3A%2266.27%22%2C%22UGX%22%3A%228886.74%22%2C%22USD%22%3A%222.46%22%2C%22ZAR%22%3A%2243.39%22%7D'\n",
    "\n",
    "\n"
   ],
   "metadata": {
    "collapsed": false,
    "ExecuteTime": {
     "end_time": "2023-07-29T15:41:08.856616300Z",
     "start_time": "2023-07-29T15:41:08.844887300Z"
    }
   }
  },
  {
   "cell_type": "code",
   "execution_count": 22,
   "outputs": [],
   "source": [
    "response = requests.post(api_url, data=data, headers=headers)"
   ],
   "metadata": {
    "collapsed": false,
    "ExecuteTime": {
     "end_time": "2023-07-29T15:43:39.980267200Z",
     "start_time": "2023-07-29T15:43:39.256940300Z"
    }
   }
  },
  {
   "cell_type": "code",
   "execution_count": 21,
   "outputs": [
    {
     "data": {
      "text/plain": "<Response [400]>"
     },
     "execution_count": 21,
     "metadata": {},
     "output_type": "execute_result"
    }
   ],
   "source": [
    "response"
   ],
   "metadata": {
    "collapsed": false,
    "ExecuteTime": {
     "end_time": "2023-07-29T15:43:02.386015600Z",
     "start_time": "2023-07-29T15:43:02.382404900Z"
    }
   }
  },
  {
   "cell_type": "code",
   "execution_count": 19,
   "outputs": [
    {
     "data": {
      "text/plain": "True"
     },
     "execution_count": 19,
     "metadata": {},
     "output_type": "execute_result"
    }
   ],
   "source": [
    "import base64\n",
    "from OpenSSL import crypto\n",
    "\n",
    "pub_str = \"-----BEGIN PUBLIC KEY-----\\nMIGfMA0GCSqGSIb3DQEBAQUAA4GNADCBiQKBgQC3FT0Ym8b3myVxhQW7ESuuu6lo\\n\" \\\n",
    "          \"dGAsUJs4fq+Ey//jm27jQ7HHHDmP1YJO7XE7Jf/0DTEJgcw4EZhJFVwsk6d3+4fy\\nBsn0tKeyGMiaE6cVkX0cy6Y85o8z\" \\\n",
    "          \"gc/CwZKc0uw6d5siAo++xl2zl+RGMXCELQVE\\nox7pp208zTvown577wIDAQAB\\n-----END PUBLIC KEY-----\"\n",
    "\n",
    "\n",
    "def callback_handler(signature, data):\n",
    "\n",
    "    pubkey = crypto.load_publickey(crypto.FILETYPE_PEM, pub_str)\n",
    "    signature = base64.b64decode(signature)\n",
    "\n",
    "    x509 = crypto.X509()\n",
    "    x509.set_pubkey(pubkey)\n",
    "\n",
    "    try:\n",
    "        crypto.verify(x509, signature, data, 'sha256')\n",
    "        return True\n",
    "    except crypto.Error:\n",
    "        ...\n",
    "    return False\n",
    "\n",
    "callback_handler(headers['x-ca-signature'], data)"
   ],
   "metadata": {
    "collapsed": false,
    "ExecuteTime": {
     "end_time": "2023-07-29T15:41:57.815622100Z",
     "start_time": "2023-07-29T15:41:57.812168500Z"
    }
   }
  },
  {
   "cell_type": "code",
   "execution_count": 3,
   "outputs": [
    {
     "data": {
      "text/plain": "'\"*ok*\"'"
     },
     "execution_count": 3,
     "metadata": {},
     "output_type": "execute_result"
    }
   ],
   "source": [
    "response.text"
   ],
   "metadata": {
    "collapsed": false,
    "ExecuteTime": {
     "end_time": "2023-07-28T17:58:43.731749800Z",
     "start_time": "2023-07-28T17:58:43.718751200Z"
    }
   }
  },
  {
   "cell_type": "code",
   "execution_count": 5,
   "outputs": [
    {
     "data": {
      "text/plain": "{'uuid': 'db9b1306-9c8e-4d1a-8389-fd3cea406699',\n 'address_in': '3C1G5nGW6rvSqyxL7bqQ3pcKhTDrYTfJmd',\n 'address_out': 'bc1qtgh6tm2qnk9hg2ymzn4h5d3ln8mxktcu20x9jh',\n 'confirmations': '3',\n 'txid_in': '58b708a0867e23dfb351d4ab7afe81fb4237222972829ec7bda8b61718930287',\n 'txid_out': '796e3909b0737bb2d393dfec2178167188db13aa9eae733955c3acf3eebf75f8',\n 'fee': '546',\n 'fee_coin': '0.00000546',\n 'value': '10238',\n 'value_coin': '0.00010238',\n 'value_forwarded': '8403',\n 'value_forwarded_coin': '0.00008403',\n 'coin': 'btc',\n 'price': '29301.3232176739',\n 'result': 'sent',\n 'pending': '0',\n 'value_coin_convert': '{\"AED\":\"11.02\",\"BGN\":\"5.32\",\"BRL\":\"14.19\",\"CAD\":\"3.97\",\"CHF\":\"2.60\",\"CNY\":\"21.44\",\"COP\":\"11818.62\",\"CZK\":\"65.30\",\"DKK\":\"20.29\",\"EUR\":\"2.72\",\"GBP\":\"2.33\",\"HKD\":\"23.39\",\"HUF\":\"1046.49\",\"IDR\":\"45309.53\",\"INR\":\"246.74\",\"JPY\":\"423.33\",\"LKR\":\"985.98\",\"MXN\":\"50.06\",\"MYR\":\"13.66\",\"PHP\":\"164.71\",\"PLN\":\"12.01\",\"RON\":\"13.43\",\"RUB\":\"276.11\",\"SGD\":\"3.99\",\"THB\":\"102.51\",\"TRY\":\"80.74\",\"UGX\":\"10827.37\",\"USD\":\"3.00\",\"ZAR\":\"52.87\"}',\n 'value_forwarded_coin_convert': '{\"AED\":\"9.04\",\"BGN\":\"4.37\",\"BRL\":\"11.65\",\"CAD\":\"3.26\",\"CHF\":\"2.13\",\"CNY\":\"17.60\",\"COP\":\"9700.32\",\"CZK\":\"53.60\",\"DKK\":\"16.65\",\"EUR\":\"2.23\",\"GBP\":\"1.92\",\"HKD\":\"19.20\",\"HUF\":\"858.92\",\"IDR\":\"37188.51\",\"INR\":\"202.51\",\"JPY\":\"347.45\",\"LKR\":\"809.26\",\"MXN\":\"41.08\",\"MYR\":\"11.21\",\"PHP\":\"135.19\",\"PLN\":\"9.86\",\"RON\":\"11.02\",\"RUB\":\"226.62\",\"SGD\":\"3.28\",\"THB\":\"84.14\",\"TRY\":\"66.27\",\"UGX\":\"8886.74\",\"USD\":\"2.46\",\"ZAR\":\"43.39\"}'}"
     },
     "execution_count": 5,
     "metadata": {},
     "output_type": "execute_result"
    }
   ],
   "source": [
    "data = [\n",
    "    ('uuid', 'db9b1306-9c8e-4d1a-8389-fd3cea406699'),\n",
    "    ('address_in', '3C1G5nGW6rvSqyxL7bqQ3pcKhTDrYTfJmd'),\n",
    "    ('address_out', 'bc1qtgh6tm2qnk9hg2ymzn4h5d3ln8mxktcu20x9jh'),\n",
    "    ('confirmations', '3'),\n",
    "    ('txid_in', '58b708a0867e23dfb351d4ab7afe81fb4237222972829ec7bda8b61718930287'),\n",
    "    ('txid_out', '796e3909b0737bb2d393dfec2178167188db13aa9eae733955c3acf3eebf75f8'),\n",
    "    ('fee', '546'),\n",
    "    ('fee_coin', '0.00000546'),\n",
    "    ('value', '10238'),\n",
    "    ('value_coin', '0.00010238'),\n",
    "    ('value_forwarded', '8403'),\n",
    "    ('value_forwarded_coin', '0.00008403'),\n",
    "    ('coin', 'btc'),\n",
    "    ('price', '29301.3232176739'),\n",
    "    ('result', 'sent'),\n",
    "    ('pending', '0'),\n",
    "    ('value_coin_convert', '{\"AED\":\"11.02\",\"BGN\":\"5.32\",\"BRL\":\"14.19\",\"CAD\":\"3.97\",\"CHF\":\"2.60\",\"CNY\":\"21.44\",\"COP\":\"11818.62\",\"CZK\":\"65.30\",\"DKK\":\"20.29\",\"EUR\":\"2.72\",\"GBP\":\"2.33\",\"HKD\":\"23.39\",\"HUF\":\"1046.49\",\"IDR\":\"45309.53\",\"INR\":\"246.74\",\"JPY\":\"423.33\",\"LKR\":\"985.98\",\"MXN\":\"50.06\",\"MYR\":\"13.66\",\"PHP\":\"164.71\",\"PLN\":\"12.01\",\"RON\":\"13.43\",\"RUB\":\"276.11\",\"SGD\":\"3.99\",\"THB\":\"102.51\",\"TRY\":\"80.74\",\"UGX\":\"10827.37\",\"USD\":\"3.00\",\"ZAR\":\"52.87\"}'),\n",
    "    ('value_forwarded_coin_convert', '{\"AED\":\"9.04\",\"BGN\":\"4.37\",\"BRL\":\"11.65\",\"CAD\":\"3.26\",\"CHF\":\"2.13\",\"CNY\":\"17.60\",\"COP\":\"9700.32\",\"CZK\":\"53.60\",\"DKK\":\"16.65\",\"EUR\":\"2.23\",\"GBP\":\"1.92\",\"HKD\":\"19.20\",\"HUF\":\"858.92\",\"IDR\":\"37188.51\",\"INR\":\"202.51\",\"JPY\":\"347.45\",\"LKR\":\"809.26\",\"MXN\":\"41.08\",\"MYR\":\"11.21\",\"PHP\":\"135.19\",\"PLN\":\"9.86\",\"RON\":\"11.02\",\"RUB\":\"226.62\",\"SGD\":\"3.28\",\"THB\":\"84.14\",\"TRY\":\"66.27\",\"UGX\":\"8886.74\",\"USD\":\"2.46\",\"ZAR\":\"43.39\"}')\n",
    "]\n",
    "\n",
    "# Convert the list of tuples to a dictionary\n",
    "data_dict = dict(data)\n",
    "\n",
    "data_dict"
   ],
   "metadata": {
    "collapsed": false,
    "ExecuteTime": {
     "end_time": "2023-07-29T15:16:39.290223800Z",
     "start_time": "2023-07-29T15:16:39.283419600Z"
    }
   }
  }
 ],
 "metadata": {
  "kernelspec": {
   "display_name": "Python 3",
   "language": "python",
   "name": "python3"
  },
  "language_info": {
   "codemirror_mode": {
    "name": "ipython",
    "version": 2
   },
   "file_extension": ".py",
   "mimetype": "text/x-python",
   "name": "python",
   "nbconvert_exporter": "python",
   "pygments_lexer": "ipython2",
   "version": "2.7.6"
  }
 },
 "nbformat": 4,
 "nbformat_minor": 0
}
